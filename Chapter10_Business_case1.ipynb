{
  "nbformat": 4,
  "nbformat_minor": 0,
  "metadata": {
    "colab": {
      "provenance": [],
      "authorship_tag": "ABX9TyNyWailkMkheWFQ+oRyJ3JK",
      "include_colab_link": true
    },
    "kernelspec": {
      "name": "python3",
      "display_name": "Python 3"
    },
    "language_info": {
      "name": "python"
    }
  },
  "cells": [
    {
      "cell_type": "markdown",
      "metadata": {
        "id": "view-in-github",
        "colab_type": "text"
      },
      "source": [
        "<a href=\"https://colab.research.google.com/github/aleX-pixelsize/Python_chapter10_case1/blob/main/Chapter10_Business_case1.ipynb\" target=\"_parent\"><img src=\"https://colab.research.google.com/assets/colab-badge.svg\" alt=\"Open In Colab\"/></a>"
      ]
    },
    {
      "cell_type": "code",
      "execution_count": 4,
      "metadata": {
        "id": "mKIkf841qEW4"
      },
      "outputs": [],
      "source": [
        "import os\n",
        "import re\n",
        "import glob\n",
        "\n",
        "\n",
        "def process_files(input_path, output_path):\n",
        "    # Создание шаблона имени файла через рег. выражения\n",
        "    pattern = re.compile(r'\\d{4}-\\d{2}-\\d{2}-\\d{2}-\\d{2}-\\d+\\.csv')\n",
        "\n",
        "    # Находим все csv-файлы в папке-источнике\n",
        "    csv_files = glob.glob(os.path.join(input_path, '*.csv'))\n",
        "\n",
        "    combined_data = []\n",
        "    header = False\n",
        "\n",
        "    for file in csv_files:\n",
        "        filename = os.path.basename(file) # От полного пути оставляем только имя файла\n",
        "        if pattern.match(filename):  # Совпадает ли имя файла с шаблоном\n",
        "            with open(file, 'r', encoding='utf-8') as f:\n",
        "                lines = f.readlines()\n",
        "\n",
        "            # Добавляем заголовок (строка 0) первого обрабатываемого файла\n",
        "            if not header:\n",
        "                combined_data.append(lines[0])\n",
        "                header = True\n",
        "\n",
        "            # Добавляем оставшиеся строки\n",
        "            combined_data.extend(lines[1:])\n",
        "\n",
        "    # Создаем директорию для сохранения итогового файла, если ее еще нет\n",
        "    os.makedirs(output_path, exist_ok=True)\n",
        "\n",
        "    # Записываем итоговые данные в файл и сохраняем его\n",
        "    combined_file_path = os.path.join(output_path, 'combined_data.csv')\n",
        "    with open(combined_file_path, 'w', encoding='utf-8') as out_file:\n",
        "        out_file.writelines(combined_data)\n"
      ]
    },
    {
      "cell_type": "code",
      "source": [
        "os.getcwd()"
      ],
      "metadata": {
        "colab": {
          "base_uri": "https://localhost:8080/",
          "height": 36
        },
        "id": "XfK0dis0v4dK",
        "outputId": "0395889d-32b6-4ad4-988f-f0e7dded21f0"
      },
      "execution_count": 2,
      "outputs": [
        {
          "output_type": "execute_result",
          "data": {
            "text/plain": [
              "'/content'"
            ],
            "application/vnd.google.colaboratory.intrinsic+json": {
              "type": "string"
            }
          },
          "metadata": {},
          "execution_count": 2
        }
      ]
    },
    {
      "cell_type": "code",
      "source": [
        "process_files('/content/sample_data/sales_reports', '/content/sample_data/final_report')"
      ],
      "metadata": {
        "id": "QmpM26rswFwQ"
      },
      "execution_count": 5,
      "outputs": []
    }
  ]
}